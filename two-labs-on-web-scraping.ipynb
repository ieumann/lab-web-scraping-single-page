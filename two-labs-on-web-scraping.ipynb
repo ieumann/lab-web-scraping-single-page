{
 "cells": [
  {
   "cell_type": "markdown",
   "id": "7e07ab23",
   "metadata": {},
   "source": [
    "#### Business goal\n",
    "\n",
    "- Check the `case_study_gnod.md` file.\n",
    "- Make sure you've understood the big picture of your project:\n",
    "\n",
    "  - the goal of the company (`Gnod`),\n",
    "  - their current product (`Gnoosic`),\n",
    "  - their strategy, and\n",
    "  - how your project fits into this context.\n",
    "\n",
    "#### Instructions\n",
    "\n",
    "1. Scraping popular songs\n",
    "\n",
    "Your product will take a song as an input from the user and will output another song (the recommendation). In most cases, the recommended song will have to be similar to the inputted song, but the CTO thinks that if the song is on the top charts at the moment, the user will enjoy more a recommendation of a song that's also popular at the moment.\n",
    "\n",
    "You have to find data on the internet about currently popular songs. Billboard maintains a weekly Top 100 of \"hot\" songs here: [https://www.billboard.com/charts/hot-100](https://www.billboard.com/charts/hot-100).\n",
    "\n",
    "It's a good place to start! Scrape the current top 100 songs and their respective artists, and put the information into a pandas dataframe.\n",
    "\n",
    "2. Expand the project\n",
    "\n",
    "If you're done, you can try to expand the project on your own. Here are a few suggestions:\n",
    "\n",
    "- Find other lists of hot songs on the internet and scrape them too: having a bigger pool of songs will be awesome!\n",
    "- Apply the same logic to other \"groups\" of songs: the best songs from a decade or from a country / culture / language / genre.\n",
    "- Wikipedia maintains a large collection of lists of songs: https://en.wikipedia.org/wiki/Lists_of_songs"
   ]
  },
  {
   "cell_type": "markdown",
   "id": "e30a0ca9",
   "metadata": {},
   "source": [
    "POSSIBLE MUSIC CHART LINKS TO SCRAP FOR THE PROJECT: <br>\n",
    "Kworb: https://kworb.net/spotify/country/global_daily_totals.html <br>\n",
    "Rolling stone: https://www.rollingstone.com/music/music-lists/best-songs-2022-list-1234632381/camilo-ft-grupo-firme-alaska-1234632703/ <br>\n",
    "Billaboard: https://www.billboard.com/charts/hot-100/ <br>\n",
    "Youtube charts: https://charts.youtube.com/?hl=es"
   ]
  },
  {
   "cell_type": "code",
   "execution_count": 1,
   "id": "ca4fd6f0",
   "metadata": {},
   "outputs": [],
   "source": [
    "from bs4 import BeautifulSoup\n",
    "import pandas as pd\n",
    "import requests\n",
    "import re\n",
    "#import math"
   ]
  },
  {
   "cell_type": "markdown",
   "id": "de022e18",
   "metadata": {},
   "source": [
    "### 1. Scraping popular songs"
   ]
  },
  {
   "cell_type": "code",
   "execution_count": 2,
   "id": "69488576",
   "metadata": {},
   "outputs": [],
   "source": [
    "#pd.read_html('https://www.billboard.com/charts/hot-100')"
   ]
  },
  {
   "cell_type": "code",
   "execution_count": 3,
   "id": "39512d3c",
   "metadata": {},
   "outputs": [
    {
     "data": {
      "text/plain": [
       "200"
      ]
     },
     "execution_count": 3,
     "metadata": {},
     "output_type": "execute_result"
    }
   ],
   "source": [
    "url = 'https://www.billboard.com/charts/hot-100'\n",
    "response = requests.get(url)\n",
    "\n",
    "response.status_code"
   ]
  },
  {
   "cell_type": "markdown",
   "id": "91ab05ed",
   "metadata": {},
   "source": [
    "200: Everything went okay and the result has been returned (if any)."
   ]
  },
  {
   "cell_type": "code",
   "execution_count": 4,
   "id": "c415717a",
   "metadata": {},
   "outputs": [],
   "source": [
    "html = response.content"
   ]
  },
  {
   "cell_type": "markdown",
   "id": "ad2d5b59",
   "metadata": {},
   "source": [
    "The artist is found under the tag `h3` with `class=\"c-title  a-no-trucate a-font-primary-bold-s u-letter-spacing-0021 u-font-size-23@tablet lrv-u-font-size-16 u-line-height-125 u-line-height-normal@mobile-max a-truncate-ellipsis u-max-width-245 u-max-width-230@tablet-only u-letter-spacing-0028@tablet\"`\n",
    "\n",
    "The song under `span` with class = `\"c-label a-no-trucate a-font-primary-s lrv-u-font-size-14@mobile-max u-line-height-normal@mobile-max \" \\\n",
    "      \"u-letter-spacing-0021 lrv-u-display-block a-truncate-ellipsis-2line u-max-width-330 \" \\\n",
    "      \"u-max-width-230@tablet-only u-font-size-20@tablet\"`"
   ]
  },
  {
   "cell_type": "code",
   "execution_count": 14,
   "id": "5bc18e32",
   "metadata": {},
   "outputs": [],
   "source": [
    "soup = BeautifulSoup(html, 'html.parser')\n",
    "#soup"
   ]
  },
  {
   "cell_type": "code",
   "execution_count": 6,
   "id": "3b4313e3",
   "metadata": {},
   "outputs": [
    {
     "name": "stdout",
     "output_type": "stream",
     "text": [
      "Song: Last Night, Artist: Morgan Wallen\n"
     ]
    }
   ],
   "source": [
    "# Defining the links\n",
    "cls1 = \"c-title a-no-trucate a-font-primary-bold-s u-letter-spacing-0021 u-font-size-23@tablet \" \\\n",
    "      \"lrv-u-font-size-16 u-line-height-125 u-line-height-normal@mobile-max a-truncate-ellipsis \" \\\n",
    "      \"u-max-width-245 u-max-width-230@tablet-only u-letter-spacing-0028@tablet\"\n",
    "cls2 = \"c-label a-no-trucate a-font-primary-s lrv-u-font-size-14@mobile-max u-line-height-normal@mobile-max \" \\\n",
    "      \"u-letter-spacing-0021 lrv-u-display-block a-truncate-ellipsis-2line u-max-width-330 \" \\\n",
    "      \"u-max-width-230@tablet-only u-font-size-20@tablet\"\n",
    "\n",
    "# Defining the tags\n",
    "song_tags = soup.find_all(\"h3\", attrs={\"class\": cls1}) \n",
    "\n",
    "artist_tags = soup.find_all('span', attrs={\"class\": cls2})\n",
    "\n",
    "# Extracting song and artist pairs\n",
    "for song_tag, artist_tag in zip(song_tags, artist_tags):\n",
    "    print(f'Song: {song_tag.text.strip()}, Artist: {artist_tag.text.strip()}')"
   ]
  },
  {
   "cell_type": "markdown",
   "id": "62367463",
   "metadata": {},
   "source": [
    "It seems that the first pair is different than the rest since the loop is stopping."
   ]
  },
  {
   "cell_type": "code",
   "execution_count": 7,
   "id": "6a39df1c",
   "metadata": {},
   "outputs": [
    {
     "name": "stdout",
     "output_type": "stream",
     "text": [
      "Song: Fast Car, Artist: Luke Combs\n",
      "Song: Calm Down, Artist: Rema & Selena Gomez\n",
      "Song: Flowers, Artist: Miley Cyrus\n",
      "Song: All My Life, Artist: Lil Durk Featuring J. Cole\n",
      "Song: Favorite Song, Artist: Toosii\n",
      "Song: Karma, Artist: Taylor Swift Featuring Ice Spice\n",
      "Song: Kill Bill, Artist: SZA\n",
      "Song: Creepin', Artist: Metro Boomin, The Weeknd & 21 Savage\n",
      "Song: Ella Baila Sola, Artist: Eslabon Armado X Peso Pluma\n",
      "Song: Sure Thing, Artist: Miguel\n",
      "Song: Anti-Hero, Artist: Taylor Swift\n",
      "Song: Snooze, Artist: SZA\n",
      "Song: Something In The Orange, Artist: Zach Bryan\n",
      "Song: Die For You, Artist: The Weeknd & Ariana Grande\n",
      "Song: Fukumean, Artist: Gunna\n",
      "Song: Need A Favor, Artist: Jelly Roll\n",
      "Song: Cruel Summer, Artist: Taylor Swift\n",
      "Song: La Bebe, Artist: Yng Lvcas x Peso Pluma\n",
      "Song: You Proof, Artist: Morgan Wallen\n",
      "Song: Un x100to, Artist: Grupo Frontera X Bad Bunny\n",
      "Song: Thinkin' Bout Me, Artist: Morgan Wallen\n",
      "Song: Rock And A Hard Place, Artist: Bailey Zimmerman\n",
      "Song: Cupid, Artist: Fifty Fifty\n",
      "Song: Search & Rescue, Artist: Drake\n",
      "Song: Chemical, Artist: Post Malone\n",
      "Song: Eyes Closed, Artist: Ed Sheeran\n",
      "Song: Next Thing You Know, Artist: Jordan Davis\n",
      "Song: Back To The Moon, Artist: Gunna\n",
      "Song: Where She Goes, Artist: Bad Bunny\n",
      "Song: Attention, Artist: Doja Cat\n",
      "Song: I'm Good (Blue), Artist: David Guetta & Bebe Rexha\n",
      "Song: Thought You Should Know, Artist: Morgan Wallen\n",
      "Song: Dance The Night, Artist: Dua Lipa\n",
      "Song: Dancin' In The Country, Artist: Tyler Hubbard\n",
      "Song: Religiously, Artist: Bailey Zimmerman\n",
      "Song: Boy's A Liar, Pt. 2, Artist: PinkPantheress & Ice Spice\n",
      "Song: Memory Lane, Artist: Old Dominion\n",
      "Song: Put It On Da Floor Again, Artist: Latto Featuring Cardi B\n",
      "Song: Area Codes, Artist: Kali\n",
      "Song: Stand By Me, Artist: Lil Durk Featuring Morgan Wallen\n",
      "Song: Rodeo Dr, Artist: Gunna\n",
      "Song: Tennessee Orange, Artist: Megan Moroney\n",
      "Song: Bzrp Music Sessions, Vol. 55, Artist: Bizarrap & Peso Pluma\n",
      "Song: Love You Anyway, Artist: Luke Combs\n",
      "Song: One Thing At A Time, Artist: Morgan Wallen\n",
      "Song: TQM, Artist: Fuerza Regida\n",
      "Song: Players, Artist: Coi Leray\n",
      "Song: Under The Influence, Artist: Chris Brown\n",
      "Song: Thank God, Artist: Kane Brown With Katelyn Brown\n",
      "Song: Back At It, Artist: Gunna\n",
      "Song: Bread & Butter, Artist: Gunna\n",
      "Song: Princess Diana, Artist: Ice Spice & Nicki Minaj\n",
      "Song: Bye, Artist: Peso Pluma\n",
      "Song: Calling, Artist: Metro Boomin, Swae Lee & NAV Featuring A Boogie Wit da Hoodie\n",
      "Song: Daylight, Artist: David Kushner\n",
      "Song: What It Is (Block Boy), Artist: Doechii Featuring Kodak Black\n",
      "Song: Annihilate, Artist: Metro Boomin, Swae Lee, Lil Wayne & Offset\n",
      "Song: Bury Me In Georgia, Artist: Kane Brown\n",
      "Song: Ca$h $hit, Artist: Gunna\n",
      "Song: Self Love, Artist: Metro Boomin & Coi Leray\n",
      "Song: Bottom, Artist: Gunna\n",
      "Song: It Matters To Her, Artist: Scotty McCreery\n",
      "Song: Dial Drunk, Artist: Noah Kahan\n",
      "Song: PRC, Artist: Peso Pluma X Natanael Cano\n",
      "Song: Por Las Noches, Artist: Peso Pluma\n",
      "Song: Mourning, Artist: Post Malone\n",
      "Song: Am I Dreaming, Artist: Metro Boomin, A$AP Rocky & Roisee\n",
      "Song: Waffle House, Artist: Jonas Brothers\n",
      "Song: See You Again, Artist: Tyler, The Creator Featuring Kali Uchis\n",
      "Song: TQG, Artist: Karol G x Shakira\n",
      "Song: Your Heart Or Mine, Artist: Jon Pardi\n",
      "Song: Peaches & Eggplants, Artist: Young Nudy Featuring 21 Savage\n",
      "Song: El Azul, Artist: Junior H x Peso Pluma\n",
      "Song: You, Me, & Whiskey, Artist: Justin Moore & Priscilla Block\n",
      "Song: IDK NoMore, Artist: Gunna\n",
      "Song: P Angels, Artist: Gunna\n",
      "Song: Cowgirls, Artist: Morgan Wallen Featuring ERNEST\n",
      "Song: Baby Don't Hurt Me, Artist: David Guetta, Anne-Marie & Coi Leray\n",
      "Song: Popular, Artist: The Weeknd, Playboi Carti & Madonna\n",
      "Song: Fight The Feeling, Artist: Rod Wave\n",
      "Song: Slut Me Out, Artist: NLE Choppa\n",
      "Song: Paybach, Artist: Gunna\n",
      "Song: Plebada, Artist: El Alfa x Peso Pluma\n",
      "Song: Save Me, Artist: Jelly Roll With Lainey Wilson\n",
      "Song: Fragil, Artist: Yahritza y Su Esencia x Grupo Frontera\n",
      "Song: Jaded, Artist: Miley Cyrus\n",
      "Song: ICU, Artist: Coco Jones\n",
      "Song: Truck Bed, Artist: HARDY\n",
      "Song: Ain't That Some, Artist: Morgan Wallen\n",
      "Song: Shake Sumn, Artist: DaBaby\n",
      "Song: Trustfall, Artist: P!nk\n",
      "Song: People, Artist: Libianca\n",
      "Song: Go Crazy, Artist: Gunna\n",
      "Song: Chanel, Artist: Becky G & Peso Pluma\n",
      "Song: Angel, Pt. 1, Artist: Kodak Black, NLE Choppa, Jimin, JVKE & Muni Long\n",
      "Song: Girl In Mine, Artist: Parmalee\n",
      "Song: Moonlight, Artist: Kali Uchis\n",
      "Song: Classy 101, Artist: Feid x Young Miko\n",
      "Song: Bluffin, Artist: Gucci Mane & Lil Baby\n"
     ]
    }
   ],
   "source": [
    "cls3 = \"c-title a-no-trucate a-font-primary-bold-s u-letter-spacing-0021 lrv-u-font-size-18@tablet \" \\\n",
    "        \"lrv-u-font-size-16 u-line-height-125 u-line-height-normal@mobile-max a-truncate-ellipsis \" \\\n",
    "        \"u-max-width-330 u-max-width-230@tablet-only\"\n",
    "cls4 = \"c-label a-no-trucate a-font-primary-s lrv-u-font-size-14@mobile-max u-line-height-normal@mobile-max \" \\\n",
    "        \"u-letter-spacing-0021 lrv-u-display-block a-truncate-ellipsis-2line u-max-width-330 \" \\\n",
    "        \"u-max-width-230@tablet-only\"\n",
    "\n",
    "song_tags = soup.find_all(\"h3\", attrs={\"class\": cls3}) \n",
    "\n",
    "artist_tags = soup.find_all('span', attrs={\"class\": cls4})\n",
    "\n",
    "for song_tag, artist_tag in zip(song_tags, artist_tags):\n",
    "    print(f'Song: {song_tag.text.strip()}, Artist: {artist_tag.text.strip()}')"
   ]
  },
  {
   "cell_type": "code",
   "execution_count": 8,
   "id": "f467635d",
   "metadata": {},
   "outputs": [],
   "source": [
    "# Initializing an empty list\n",
    "songs = []\n",
    "artists = []"
   ]
  },
  {
   "cell_type": "code",
   "execution_count": 9,
   "id": "40d5a65b",
   "metadata": {},
   "outputs": [],
   "source": [
    "# Adding song/artist pairs to list\n",
    "for song_tag, artist_tag in zip(song_tags, artist_tags):\n",
    "    songs.append(song_tag.text.strip())\n",
    "    artists.append(artist_tag.text.strip())"
   ]
  },
  {
   "cell_type": "code",
   "execution_count": 10,
   "id": "20a46afc",
   "metadata": {},
   "outputs": [
    {
     "data": {
      "text/html": [
       "<div>\n",
       "<style scoped>\n",
       "    .dataframe tbody tr th:only-of-type {\n",
       "        vertical-align: middle;\n",
       "    }\n",
       "\n",
       "    .dataframe tbody tr th {\n",
       "        vertical-align: top;\n",
       "    }\n",
       "\n",
       "    .dataframe thead th {\n",
       "        text-align: right;\n",
       "    }\n",
       "</style>\n",
       "<table border=\"1\" class=\"dataframe\">\n",
       "  <thead>\n",
       "    <tr style=\"text-align: right;\">\n",
       "      <th></th>\n",
       "      <th>Song</th>\n",
       "      <th>Artist</th>\n",
       "    </tr>\n",
       "  </thead>\n",
       "  <tbody>\n",
       "    <tr>\n",
       "      <th>0</th>\n",
       "      <td>Fast Car</td>\n",
       "      <td>Luke Combs</td>\n",
       "    </tr>\n",
       "    <tr>\n",
       "      <th>1</th>\n",
       "      <td>Calm Down</td>\n",
       "      <td>Rema &amp; Selena Gomez</td>\n",
       "    </tr>\n",
       "    <tr>\n",
       "      <th>2</th>\n",
       "      <td>Flowers</td>\n",
       "      <td>Miley Cyrus</td>\n",
       "    </tr>\n",
       "    <tr>\n",
       "      <th>3</th>\n",
       "      <td>All My Life</td>\n",
       "      <td>Lil Durk Featuring J. Cole</td>\n",
       "    </tr>\n",
       "    <tr>\n",
       "      <th>4</th>\n",
       "      <td>Favorite Song</td>\n",
       "      <td>Toosii</td>\n",
       "    </tr>\n",
       "    <tr>\n",
       "      <th>...</th>\n",
       "      <td>...</td>\n",
       "      <td>...</td>\n",
       "    </tr>\n",
       "    <tr>\n",
       "      <th>94</th>\n",
       "      <td>Angel, Pt. 1</td>\n",
       "      <td>Kodak Black, NLE Choppa, Jimin, JVKE &amp; Muni Long</td>\n",
       "    </tr>\n",
       "    <tr>\n",
       "      <th>95</th>\n",
       "      <td>Girl In Mine</td>\n",
       "      <td>Parmalee</td>\n",
       "    </tr>\n",
       "    <tr>\n",
       "      <th>96</th>\n",
       "      <td>Moonlight</td>\n",
       "      <td>Kali Uchis</td>\n",
       "    </tr>\n",
       "    <tr>\n",
       "      <th>97</th>\n",
       "      <td>Classy 101</td>\n",
       "      <td>Feid x Young Miko</td>\n",
       "    </tr>\n",
       "    <tr>\n",
       "      <th>98</th>\n",
       "      <td>Bluffin</td>\n",
       "      <td>Gucci Mane &amp; Lil Baby</td>\n",
       "    </tr>\n",
       "  </tbody>\n",
       "</table>\n",
       "<p>99 rows × 2 columns</p>\n",
       "</div>"
      ],
      "text/plain": [
       "             Song                                            Artist\n",
       "0        Fast Car                                        Luke Combs\n",
       "1       Calm Down                               Rema & Selena Gomez\n",
       "2         Flowers                                       Miley Cyrus\n",
       "3     All My Life                        Lil Durk Featuring J. Cole\n",
       "4   Favorite Song                                            Toosii\n",
       "..            ...                                               ...\n",
       "94   Angel, Pt. 1  Kodak Black, NLE Choppa, Jimin, JVKE & Muni Long\n",
       "95   Girl In Mine                                          Parmalee\n",
       "96      Moonlight                                        Kali Uchis\n",
       "97     Classy 101                                 Feid x Young Miko\n",
       "98        Bluffin                             Gucci Mane & Lil Baby\n",
       "\n",
       "[99 rows x 2 columns]"
      ]
     },
     "execution_count": 10,
     "metadata": {},
     "output_type": "execute_result"
    }
   ],
   "source": [
    "# Turning list into dataframe\n",
    "top_songs = pd.DataFrame({\"Song\":songs, \"Artist\":artists})\n",
    "top_songs"
   ]
  },
  {
   "cell_type": "markdown",
   "id": "4cc1c005",
   "metadata": {},
   "source": [
    "#### I am still missing the very first song and artist."
   ]
  },
  {
   "cell_type": "code",
   "execution_count": 12,
   "id": "7096db83",
   "metadata": {},
   "outputs": [],
   "source": [
    "# Extracting song and artist number 1\n",
    "song1 = soup.find(\"h3\", attrs={\"class\": cls1}).text.strip()\n",
    "artist1 = soup.find('span', attrs={\"class\": cls2}).text.strip()\n",
    "\n",
    "# Inserting them at first position in each list\n",
    "songs.insert(0, song1)\n",
    "artists.insert(0, artist1)"
   ]
  },
  {
   "cell_type": "code",
   "execution_count": 13,
   "id": "7c659630",
   "metadata": {},
   "outputs": [
    {
     "data": {
      "text/html": [
       "<div>\n",
       "<style scoped>\n",
       "    .dataframe tbody tr th:only-of-type {\n",
       "        vertical-align: middle;\n",
       "    }\n",
       "\n",
       "    .dataframe tbody tr th {\n",
       "        vertical-align: top;\n",
       "    }\n",
       "\n",
       "    .dataframe thead th {\n",
       "        text-align: right;\n",
       "    }\n",
       "</style>\n",
       "<table border=\"1\" class=\"dataframe\">\n",
       "  <thead>\n",
       "    <tr style=\"text-align: right;\">\n",
       "      <th></th>\n",
       "      <th>Song</th>\n",
       "      <th>Artist</th>\n",
       "    </tr>\n",
       "  </thead>\n",
       "  <tbody>\n",
       "    <tr>\n",
       "      <th>0</th>\n",
       "      <td>Last Night</td>\n",
       "      <td>Morgan Wallen</td>\n",
       "    </tr>\n",
       "    <tr>\n",
       "      <th>1</th>\n",
       "      <td>Fast Car</td>\n",
       "      <td>Luke Combs</td>\n",
       "    </tr>\n",
       "    <tr>\n",
       "      <th>2</th>\n",
       "      <td>Calm Down</td>\n",
       "      <td>Rema &amp; Selena Gomez</td>\n",
       "    </tr>\n",
       "    <tr>\n",
       "      <th>3</th>\n",
       "      <td>Flowers</td>\n",
       "      <td>Miley Cyrus</td>\n",
       "    </tr>\n",
       "    <tr>\n",
       "      <th>4</th>\n",
       "      <td>All My Life</td>\n",
       "      <td>Lil Durk Featuring J. Cole</td>\n",
       "    </tr>\n",
       "    <tr>\n",
       "      <th>...</th>\n",
       "      <td>...</td>\n",
       "      <td>...</td>\n",
       "    </tr>\n",
       "    <tr>\n",
       "      <th>95</th>\n",
       "      <td>Angel, Pt. 1</td>\n",
       "      <td>Kodak Black, NLE Choppa, Jimin, JVKE &amp; Muni Long</td>\n",
       "    </tr>\n",
       "    <tr>\n",
       "      <th>96</th>\n",
       "      <td>Girl In Mine</td>\n",
       "      <td>Parmalee</td>\n",
       "    </tr>\n",
       "    <tr>\n",
       "      <th>97</th>\n",
       "      <td>Moonlight</td>\n",
       "      <td>Kali Uchis</td>\n",
       "    </tr>\n",
       "    <tr>\n",
       "      <th>98</th>\n",
       "      <td>Classy 101</td>\n",
       "      <td>Feid x Young Miko</td>\n",
       "    </tr>\n",
       "    <tr>\n",
       "      <th>99</th>\n",
       "      <td>Bluffin</td>\n",
       "      <td>Gucci Mane &amp; Lil Baby</td>\n",
       "    </tr>\n",
       "  </tbody>\n",
       "</table>\n",
       "<p>100 rows × 2 columns</p>\n",
       "</div>"
      ],
      "text/plain": [
       "            Song                                            Artist\n",
       "0     Last Night                                     Morgan Wallen\n",
       "1       Fast Car                                        Luke Combs\n",
       "2      Calm Down                               Rema & Selena Gomez\n",
       "3        Flowers                                       Miley Cyrus\n",
       "4    All My Life                        Lil Durk Featuring J. Cole\n",
       "..           ...                                               ...\n",
       "95  Angel, Pt. 1  Kodak Black, NLE Choppa, Jimin, JVKE & Muni Long\n",
       "96  Girl In Mine                                          Parmalee\n",
       "97     Moonlight                                        Kali Uchis\n",
       "98    Classy 101                                 Feid x Young Miko\n",
       "99       Bluffin                             Gucci Mane & Lil Baby\n",
       "\n",
       "[100 rows x 2 columns]"
      ]
     },
     "execution_count": 13,
     "metadata": {},
     "output_type": "execute_result"
    }
   ],
   "source": [
    "top_songs = pd.DataFrame({\"Song\":songs, \"Artist\":artists})\n",
    "top_songs"
   ]
  }
 ],
 "metadata": {
  "kernelspec": {
   "display_name": "Python 3 (ipykernel)",
   "language": "python",
   "name": "python3"
  },
  "language_info": {
   "codemirror_mode": {
    "name": "ipython",
    "version": 3
   },
   "file_extension": ".py",
   "mimetype": "text/x-python",
   "name": "python",
   "nbconvert_exporter": "python",
   "pygments_lexer": "ipython3",
   "version": "3.9.13"
  }
 },
 "nbformat": 4,
 "nbformat_minor": 5
}
